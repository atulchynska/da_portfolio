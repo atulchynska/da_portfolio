{
 "cells": [
  {
   "cell_type": "markdown",
   "metadata": {},
   "source": [
    "Hi Nastia. I'm Svetlana and will review your project. I've added all my comments to new cells with different coloring. Please don't delete my comments.\n",
    "\n",
    "<div class=\"alert alert-success\" role=\"alert\">\n",
    "Reviewer's comment:\n",
    "    \n",
    "If you did something great I'm using green color for my comment\n",
    "</div>\n",
    "\n",
    "<div class=\"alert alert-warning\" role=\"alert\">\n",
    "Reviewer's comment:\n",
    "    \n",
    "If I want to give you advice or think that something can be improved, then I'll use yellow. This is an optional recommendation.\n",
    "</div>\n",
    "\n",
    "<div class=\"alert alert-danger\" role=\"alert\">\n",
    "Reviewer's comment:\n",
    "    \n",
    "If the topic requires some extra work so I can accept it then the color will be red\n",
    "</div>\n",
    "\n",
    "## Review\n",
    "\n",
    "Thank you for sending your project. You've done a really good job on it! However, there's something that needs to be fixed in your project. Please add a conclusion after Step 1. Please note that \"There are conclusions at each stage\" is one of the critical errors. Your project is A+, but I can't accept it due to this error ("
   ]
  },
  {
   "cell_type": "markdown",
   "metadata": {},
   "source": [
    "<div class=\"alert alert-info\"> <b>Student comment:</b> Hi, Svetlana!\n",
    "Thank you for checking my project and for your valuable recommendations.  I will make some changes regarding your advice. </div>"
   ]
  },
  {
   "cell_type": "markdown",
   "metadata": {},
   "source": [
    "# How to Tell a Story Using Data"
   ]
  },
  {
   "cell_type": "markdown",
   "metadata": {},
   "source": [
    "## Project description\n",
    "We decided to open a small robot-run cafe in Los Angeles. The project is promising but expensive, so we decide to try to attract investors. We'll analyze current market conditions. Will we be able to maintain success when the novelty of robot waiters wears off?\n",
    "\n",
    "---\n",
    "\n",
    "**Main goal**: We'll prepare market research. We have <b>open-source</b> data on restaurants in LA.\n",
    "\n",
    "---"
   ]
  },
  {
   "cell_type": "markdown",
   "metadata": {},
   "source": [
    "## Analysis structure: \n",
    "1. [**Download the data and prepare it for analysis**](#step_1)\n",
    "2. [**Data analysis:**](#step_2)\n",
    "\n",
    " - [Investigation of the proportions of the various types of establishments.](#step_2_1)\n",
    " - [Investigation of the proportions of chain and nonchain establishments. ](#step_2_2)\n",
    " - [Which type of establishment is typically a chain?](#step_2_3)\n",
    " - [What characterizes chains?](#step_2_4)\n",
    " - [Average number of seats for each type of restaurant.](#step_2_5)\n",
    " - [Street names extraction.](#step_2_6)\n",
    " - [Top ten streets by number of restaurants.](#step_2_7)\n",
    " - [Number of streets that only have one restaurant.](#step_2_8)\n",
    " - [Distribution of the number of seats for streets with a lot of restaurants.](#step_2_9)\n",
    " \n",
    " \n",
    "3. [**General conclusions**](#step_3)\n",
    "4. [**Link to the presentation.**](#step_4) "
   ]
  },
  {
   "cell_type": "markdown",
   "metadata": {},
   "source": [
    "<div class=\"alert alert-success\" role=\"alert\">\n",
    "Reviewer's comment:\n",
    "    \n",
    "It’s great that you added a table of contents with links and a goal of the project. \n",
    "</div>"
   ]
  },
  {
   "cell_type": "markdown",
   "metadata": {},
   "source": [
    "Let's install additional library to parse USA addresses to seperate instances (AddressNumber, StreetNamePreDirectional, StreetName, StreetNamePostType)."
   ]
  },
  {
   "cell_type": "code",
   "execution_count": 1,
   "metadata": {},
   "outputs": [
    {
     "name": "stdout",
     "output_type": "stream",
     "text": [
      "Defaulting to user installation because normal site-packages is not writeable\n",
      "Requirement already satisfied: usaddress in /home/jovyan/.local/lib/python3.7/site-packages (0.5.10)\n",
      "Requirement already satisfied: python-crfsuite>=0.7 in /home/jovyan/.local/lib/python3.7/site-packages (from usaddress) (0.9.7)\n",
      "Requirement already satisfied: probableparsing in /home/jovyan/.local/lib/python3.7/site-packages (from usaddress) (0.0.1)\n",
      "Requirement already satisfied: future>=0.14 in /home/jovyan/.local/lib/python3.7/site-packages (from usaddress) (0.18.2)\n"
     ]
    }
   ],
   "source": [
    "!pip3 install usaddress"
   ]
  },
  {
   "cell_type": "code",
   "execution_count": 2,
   "metadata": {},
   "outputs": [],
   "source": [
    "import pandas as pd\n",
    "import numpy as np\n",
    "import seaborn as sns\n",
    "import matplotlib.pyplot as plt\n",
    "import matplotlib\n",
    "from scipy import stats as st\n",
    "import plotly.express as px\n",
    "import usaddress\n",
    "from plotly import graph_objects as go"
   ]
  },
  {
   "cell_type": "markdown",
   "metadata": {},
   "source": [
    "## <a id=step_1>Step 1. Download the data and prepare it for analysis</a>"
   ]
  },
  {
   "cell_type": "code",
   "execution_count": 3,
   "metadata": {},
   "outputs": [],
   "source": [
    "data = pd.read_csv('/datasets/rest_data_us.csv')"
   ]
  },
  {
   "cell_type": "code",
   "execution_count": 4,
   "metadata": {},
   "outputs": [
    {
     "data": {
      "text/html": [
       "<div>\n",
       "<style scoped>\n",
       "    .dataframe tbody tr th:only-of-type {\n",
       "        vertical-align: middle;\n",
       "    }\n",
       "\n",
       "    .dataframe tbody tr th {\n",
       "        vertical-align: top;\n",
       "    }\n",
       "\n",
       "    .dataframe thead th {\n",
       "        text-align: right;\n",
       "    }\n",
       "</style>\n",
       "<table border=\"1\" class=\"dataframe\">\n",
       "  <thead>\n",
       "    <tr style=\"text-align: right;\">\n",
       "      <th></th>\n",
       "      <th>id</th>\n",
       "      <th>object_name</th>\n",
       "      <th>address</th>\n",
       "      <th>chain</th>\n",
       "      <th>object_type</th>\n",
       "      <th>number</th>\n",
       "    </tr>\n",
       "  </thead>\n",
       "  <tbody>\n",
       "    <tr>\n",
       "      <td>0</td>\n",
       "      <td>11786</td>\n",
       "      <td>HABITAT COFFEE SHOP</td>\n",
       "      <td>3708 N EAGLE ROCK BLVD</td>\n",
       "      <td>False</td>\n",
       "      <td>Cafe</td>\n",
       "      <td>26</td>\n",
       "    </tr>\n",
       "    <tr>\n",
       "      <td>1</td>\n",
       "      <td>11787</td>\n",
       "      <td>REILLY'S</td>\n",
       "      <td>100 WORLD WAY # 120</td>\n",
       "      <td>False</td>\n",
       "      <td>Restaurant</td>\n",
       "      <td>9</td>\n",
       "    </tr>\n",
       "    <tr>\n",
       "      <td>2</td>\n",
       "      <td>11788</td>\n",
       "      <td>STREET CHURROS</td>\n",
       "      <td>6801 HOLLYWOOD BLVD # 253</td>\n",
       "      <td>False</td>\n",
       "      <td>Fast Food</td>\n",
       "      <td>20</td>\n",
       "    </tr>\n",
       "    <tr>\n",
       "      <td>3</td>\n",
       "      <td>11789</td>\n",
       "      <td>TRINITI ECHO PARK</td>\n",
       "      <td>1814 W SUNSET BLVD</td>\n",
       "      <td>False</td>\n",
       "      <td>Restaurant</td>\n",
       "      <td>22</td>\n",
       "    </tr>\n",
       "    <tr>\n",
       "      <td>4</td>\n",
       "      <td>11790</td>\n",
       "      <td>POLLEN</td>\n",
       "      <td>2100 ECHO PARK AVE</td>\n",
       "      <td>False</td>\n",
       "      <td>Restaurant</td>\n",
       "      <td>20</td>\n",
       "    </tr>\n",
       "  </tbody>\n",
       "</table>\n",
       "</div>"
      ],
      "text/plain": [
       "      id          object_name                    address  chain object_type  \\\n",
       "0  11786  HABITAT COFFEE SHOP     3708 N EAGLE ROCK BLVD  False        Cafe   \n",
       "1  11787             REILLY'S        100 WORLD WAY # 120  False  Restaurant   \n",
       "2  11788       STREET CHURROS  6801 HOLLYWOOD BLVD # 253  False   Fast Food   \n",
       "3  11789    TRINITI ECHO PARK         1814 W SUNSET BLVD  False  Restaurant   \n",
       "4  11790               POLLEN         2100 ECHO PARK AVE  False  Restaurant   \n",
       "\n",
       "   number  \n",
       "0      26  \n",
       "1       9  \n",
       "2      20  \n",
       "3      22  \n",
       "4      20  "
      ]
     },
     "execution_count": 4,
     "metadata": {},
     "output_type": "execute_result"
    }
   ],
   "source": [
    "data.head()"
   ]
  },
  {
   "cell_type": "code",
   "execution_count": 5,
   "metadata": {},
   "outputs": [
    {
     "name": "stdout",
     "output_type": "stream",
     "text": [
      "<class 'pandas.core.frame.DataFrame'>\n",
      "RangeIndex: 9651 entries, 0 to 9650\n",
      "Data columns (total 6 columns):\n",
      "id             9651 non-null int64\n",
      "object_name    9651 non-null object\n",
      "address        9651 non-null object\n",
      "chain          9648 non-null object\n",
      "object_type    9651 non-null object\n",
      "number         9651 non-null int64\n",
      "dtypes: int64(2), object(4)\n",
      "memory usage: 2.4 MB\n"
     ]
    }
   ],
   "source": [
    "data.info(memory_usage = 'deep')"
   ]
  },
  {
   "cell_type": "markdown",
   "metadata": {},
   "source": [
    "In the **'data'** table we have data on restaurants in LA.\n",
    "In the 'data' table, we have 6 columns and 9651 values in each column. We have missing values and wrong data type only in the 'chain' column, we will process it below. Rest data looks good and ready for further analysis."
   ]
  },
  {
   "cell_type": "code",
   "execution_count": 6,
   "metadata": {},
   "outputs": [
    {
     "data": {
      "text/plain": [
       "False    5972\n",
       "True     3676\n",
       "Name: chain, dtype: int64"
      ]
     },
     "execution_count": 6,
     "metadata": {},
     "output_type": "execute_result"
    }
   ],
   "source": [
    "data['chain'].value_counts()"
   ]
  },
  {
   "cell_type": "markdown",
   "metadata": {},
   "source": [
    "Let's look at missing values in the 'chain' column. "
   ]
  },
  {
   "cell_type": "code",
   "execution_count": 7,
   "metadata": {},
   "outputs": [
    {
     "data": {
      "text/html": [
       "<div>\n",
       "<style scoped>\n",
       "    .dataframe tbody tr th:only-of-type {\n",
       "        vertical-align: middle;\n",
       "    }\n",
       "\n",
       "    .dataframe tbody tr th {\n",
       "        vertical-align: top;\n",
       "    }\n",
       "\n",
       "    .dataframe thead th {\n",
       "        text-align: right;\n",
       "    }\n",
       "</style>\n",
       "<table border=\"1\" class=\"dataframe\">\n",
       "  <thead>\n",
       "    <tr style=\"text-align: right;\">\n",
       "      <th></th>\n",
       "      <th>id</th>\n",
       "      <th>object_name</th>\n",
       "      <th>address</th>\n",
       "      <th>chain</th>\n",
       "      <th>object_type</th>\n",
       "      <th>number</th>\n",
       "    </tr>\n",
       "  </thead>\n",
       "  <tbody>\n",
       "    <tr>\n",
       "      <td>7408</td>\n",
       "      <td>19194</td>\n",
       "      <td>TAQUERIA LOS 3 CARNALES</td>\n",
       "      <td>5000 E WHITTIER BLVD</td>\n",
       "      <td>NaN</td>\n",
       "      <td>Restaurant</td>\n",
       "      <td>14</td>\n",
       "    </tr>\n",
       "    <tr>\n",
       "      <td>7523</td>\n",
       "      <td>19309</td>\n",
       "      <td>JAMMIN JIMMY'S PIZZA</td>\n",
       "      <td>1641 FIRESTONE BLVD</td>\n",
       "      <td>NaN</td>\n",
       "      <td>Pizza</td>\n",
       "      <td>1</td>\n",
       "    </tr>\n",
       "    <tr>\n",
       "      <td>8648</td>\n",
       "      <td>20434</td>\n",
       "      <td>THE LEXINGTON THEATER</td>\n",
       "      <td>129 E 3RD ST</td>\n",
       "      <td>NaN</td>\n",
       "      <td>Restaurant</td>\n",
       "      <td>35</td>\n",
       "    </tr>\n",
       "  </tbody>\n",
       "</table>\n",
       "</div>"
      ],
      "text/plain": [
       "         id              object_name               address chain object_type  \\\n",
       "7408  19194  TAQUERIA LOS 3 CARNALES  5000 E WHITTIER BLVD   NaN  Restaurant   \n",
       "7523  19309     JAMMIN JIMMY'S PIZZA   1641 FIRESTONE BLVD   NaN       Pizza   \n",
       "8648  20434    THE LEXINGTON THEATER          129 E 3RD ST   NaN  Restaurant   \n",
       "\n",
       "      number  \n",
       "7408      14  \n",
       "7523       1  \n",
       "8648      35  "
      ]
     },
     "execution_count": 7,
     "metadata": {},
     "output_type": "execute_result"
    }
   ],
   "source": [
    "data_missing = data[data['chain'].isnull()]\n",
    "data_missing"
   ]
  },
  {
   "cell_type": "markdown",
   "metadata": {},
   "source": [
    "We have only 3 restaurants where the chain is not defined. We checked those restaurants manually on the internet and find out that all of them are not a chain. So we will fill missing values with **False** for these restaurants."
   ]
  },
  {
   "cell_type": "markdown",
   "metadata": {},
   "source": [
    "<div class=\"alert alert-success\" role=\"alert\">\n",
    "Reviewer's comment:\n",
    "    \n",
    "Yes, it's great that you find a correct values of a missing values in chain column.\n",
    "</div>"
   ]
  },
  {
   "cell_type": "code",
   "execution_count": 8,
   "metadata": {},
   "outputs": [],
   "source": [
    "# Let's fill missing values with False. \n",
    "data['chain'].fillna(False, inplace = True)"
   ]
  },
  {
   "cell_type": "code",
   "execution_count": 9,
   "metadata": {},
   "outputs": [
    {
     "data": {
      "text/plain": [
       "False    5975\n",
       "True     3676\n",
       "Name: chain, dtype: int64"
      ]
     },
     "execution_count": 9,
     "metadata": {},
     "output_type": "execute_result"
    }
   ],
   "source": [
    "data['chain'].value_counts()"
   ]
  },
  {
   "cell_type": "code",
   "execution_count": 10,
   "metadata": {},
   "outputs": [
    {
     "data": {
      "text/plain": [
       "dtype('bool')"
      ]
     },
     "execution_count": 10,
     "metadata": {},
     "output_type": "execute_result"
    }
   ],
   "source": [
    "data['chain'].dtypes"
   ]
  },
  {
   "cell_type": "markdown",
   "metadata": {},
   "source": [
    "Now we don't have missing values in the 'chain' column and the type is correct - **bool**. \n",
    "We have 3676 restaurants that part of the chains and 5975 that are not part of the chain."
   ]
  },
  {
   "cell_type": "code",
   "execution_count": 11,
   "metadata": {},
   "outputs": [
    {
     "data": {
      "text/plain": [
       "9651"
      ]
     },
     "execution_count": 11,
     "metadata": {},
     "output_type": "execute_result"
    }
   ],
   "source": [
    "# Let's check how many unique ids we have.\n",
    "data['id'].nunique()"
   ]
  },
  {
   "cell_type": "markdown",
   "metadata": {},
   "source": [
    "We don't have duplicates in our data. 'id' contains only unique ids. "
   ]
  },
  {
   "cell_type": "markdown",
   "metadata": {},
   "source": [
    "<div class=\"alert alert-danger\" role=\"alert\">\n",
    "Reviewer's comment:\n",
    "    \n",
    "Yes, data is ready for the furthet analysis. But please note that it’s necessary to add a conclusion for each part of the project. Please take it into account for the future. \n",
    "</div>"
   ]
  },
  {
   "cell_type": "markdown",
   "metadata": {},
   "source": [
    "<div class=\"alert alert-info\"> <b>Student comment:</b> \n",
    "    \n",
    "### Conclusion for Step 1\n",
    "    \n",
    "- In the **'data'** table we have data on restaurants in LA.\n",
    "- In the 'data' table, we have **6** columns and **9651** values in each column. \n",
    "- We filled missing values, where the chain is not defined. We checked those restaurants manually on the internet and find out that all of them are not a chain, fill missing values with False for these restaurants. We have **3676** restaurants that part of the chains and **5975** that are not part of the chain. \n",
    "- We don't have duplicates in our data. 'id' column contains 9651 unique ids.</div>\n",
    "\n"
   ]
  },
  {
   "cell_type": "markdown",
   "metadata": {},
   "source": [
    "## <a id=step_2>Step 2. Data analysis</a>"
   ]
  },
  {
   "cell_type": "markdown",
   "metadata": {},
   "source": [
    "<a id=step_2_1>- Investigation of the proportions of the various types of establishments.</a>"
   ]
  },
  {
   "cell_type": "code",
   "execution_count": 12,
   "metadata": {},
   "outputs": [
    {
     "data": {
      "text/html": [
       "<div>\n",
       "<style scoped>\n",
       "    .dataframe tbody tr th:only-of-type {\n",
       "        vertical-align: middle;\n",
       "    }\n",
       "\n",
       "    .dataframe tbody tr th {\n",
       "        vertical-align: top;\n",
       "    }\n",
       "\n",
       "    .dataframe thead th {\n",
       "        text-align: right;\n",
       "    }\n",
       "</style>\n",
       "<table border=\"1\" class=\"dataframe\">\n",
       "  <thead>\n",
       "    <tr style=\"text-align: right;\">\n",
       "      <th></th>\n",
       "      <th>object_type</th>\n",
       "      <th>number</th>\n",
       "      <th>percent</th>\n",
       "    </tr>\n",
       "  </thead>\n",
       "  <tbody>\n",
       "    <tr>\n",
       "      <td>0</td>\n",
       "      <td>Restaurant</td>\n",
       "      <td>7255</td>\n",
       "      <td>75.173557</td>\n",
       "    </tr>\n",
       "    <tr>\n",
       "      <td>1</td>\n",
       "      <td>Fast Food</td>\n",
       "      <td>1066</td>\n",
       "      <td>11.045488</td>\n",
       "    </tr>\n",
       "    <tr>\n",
       "      <td>2</td>\n",
       "      <td>Cafe</td>\n",
       "      <td>435</td>\n",
       "      <td>4.507305</td>\n",
       "    </tr>\n",
       "    <tr>\n",
       "      <td>3</td>\n",
       "      <td>Pizza</td>\n",
       "      <td>320</td>\n",
       "      <td>3.315719</td>\n",
       "    </tr>\n",
       "    <tr>\n",
       "      <td>4</td>\n",
       "      <td>Bar</td>\n",
       "      <td>292</td>\n",
       "      <td>3.025593</td>\n",
       "    </tr>\n",
       "    <tr>\n",
       "      <td>5</td>\n",
       "      <td>Bakery</td>\n",
       "      <td>283</td>\n",
       "      <td>2.932339</td>\n",
       "    </tr>\n",
       "  </tbody>\n",
       "</table>\n",
       "</div>"
      ],
      "text/plain": [
       "  object_type  number    percent\n",
       "0  Restaurant    7255  75.173557\n",
       "1   Fast Food    1066  11.045488\n",
       "2        Cafe     435   4.507305\n",
       "3       Pizza     320   3.315719\n",
       "4         Bar     292   3.025593\n",
       "5      Bakery     283   2.932339"
      ]
     },
     "execution_count": 12,
     "metadata": {},
     "output_type": "execute_result"
    }
   ],
   "source": [
    "# Let's calculate the number and percentage of different establishments.\n",
    "establishments = data['object_type'].value_counts().reset_index()\n",
    "establishments.columns = ['object_type', 'number']\n",
    "establishments['percent'] = establishments['number'] / 9651 * 100\n",
    "establishments"
   ]
  },
  {
   "cell_type": "code",
   "execution_count": 13,
   "metadata": {},
   "outputs": [
    {
     "data": {
      "image/png": "[encoded data removed]",
      "text/plain": [
       "<Figure size 936x504 with 1 Axes>"
      ]
     },
     "metadata": {
      "needs_background": "light"
     },
     "output_type": "display_data"
    }
   ],
   "source": [
    "# Let's plot the graph. \n",
    "plt.figure(figsize=(13,7))\n",
    "sns.set_style(\"whitegrid\")\n",
    "ax = sns.barplot(establishments['object_type'], establishments['number'], alpha=.6)\n",
    "ax.set_title('Proportions of the various types of establishments')\n",
    "ax.set_xlabel('Names of establishments')\n",
    "ax.set_ylabel('Number of establishments')\n",
    "plt.show()"
   ]
  },
  {
   "cell_type": "markdown",
   "metadata": {},
   "source": [
    "### Conclusion:\n",
    "We can see that **7,255** establishments in LA are of a restaurant type, which is **75%** of all establishments. Second, the most popular establishments are Fast Food, 11% of all. The least popular is the bakery, only 3% of all establishments."
   ]
  },
  {
   "cell_type": "markdown",
   "metadata": {},
   "source": [
    "<div class=\"alert alert-success\" role=\"alert\">\n",
    "Reviewer's comment:\n",
    "    \n",
    "It's great that you didn't forget the axis labels and the title to the graph.\n",
    "\n",
    "Yes, a restaurant type is the most popular amoung establishments. Please think about a possible explanation of this fact. \n",
    "</div>"
   ]
  },
  {
   "cell_type": "markdown",
   "metadata": {},
   "source": [
    "<a id=step_2_2>- Investigation of the proportions of chain and nonchain establishments.</a>"
   ]
  },
  {
   "cell_type": "code",
   "execution_count": 14,
   "metadata": {},
   "outputs": [
    {
     "data": {
      "text/html": [
       "<div>\n",
       "<style scoped>\n",
       "    .dataframe tbody tr th:only-of-type {\n",
       "        vertical-align: middle;\n",
       "    }\n",
       "\n",
       "    .dataframe tbody tr th {\n",
       "        vertical-align: top;\n",
       "    }\n",
       "\n",
       "    .dataframe thead th {\n",
       "        text-align: right;\n",
       "    }\n",
       "</style>\n",
       "<table border=\"1\" class=\"dataframe\">\n",
       "  <thead>\n",
       "    <tr style=\"text-align: right;\">\n",
       "      <th></th>\n",
       "      <th>chain</th>\n",
       "      <th>number</th>\n",
       "      <th>percent</th>\n",
       "    </tr>\n",
       "  </thead>\n",
       "  <tbody>\n",
       "    <tr>\n",
       "      <td>0</td>\n",
       "      <td>False</td>\n",
       "      <td>5975</td>\n",
       "      <td>61.910683</td>\n",
       "    </tr>\n",
       "    <tr>\n",
       "      <td>1</td>\n",
       "      <td>True</td>\n",
       "      <td>3676</td>\n",
       "      <td>38.089317</td>\n",
       "    </tr>\n",
       "  </tbody>\n",
       "</table>\n",
       "</div>"
      ],
      "text/plain": [
       "   chain  number    percent\n",
       "0  False    5975  61.910683\n",
       "1   True    3676  38.089317"
      ]
     },
     "execution_count": 14,
     "metadata": {},
     "output_type": "execute_result"
    }
   ],
   "source": [
    "# Let's calculate the number and percentage of chain and not chain establishments. \n",
    "chain = data['chain'].value_counts().reset_index()\n",
    "chain.columns = ['chain', 'number']\n",
    "chain['percent'] = chain['number'] / 9651 * 100\n",
    "chain"
   ]
  },
  {
   "cell_type": "code",
   "execution_count": 15,
   "metadata": {},
   "outputs": [
    {
     "data": {
      "image/png": "[encoded data removed]",
      "text/plain": [
       "<Figure size 720x432 with 1 Axes>"
      ]
     },
     "metadata": {},
     "output_type": "display_data"
    }
   ],
   "source": [
    "# Let's plot the graph. \n",
    "pie, ax = plt.subplots(figsize=[10,6])\n",
    "n = plt.pie(x=chain['percent'], autopct=\"%.1f%%\", explode=[0.03]*2, labels=['Not Chain', 'Chain'], pctdistance=0.5)\n",
    "n[0][0].set_alpha(0.9)\n",
    "n[0][1].set_alpha(0.6)\n",
    "plt.title(\"Proportions of chain and nonchain establishments\")\n",
    "plt.show()"
   ]
  },
  {
   "cell_type": "markdown",
   "metadata": {},
   "source": [
    "### Conclusion:\n",
    "In the LA market Not Chain establishments share is **62%**, Chain establishments - **38%**."
   ]
  },
  {
   "cell_type": "markdown",
   "metadata": {},
   "source": [
    "<div class=\"alert alert-success\" role=\"alert\">\n",
    "Reviewer's comment:\n",
    "    \n",
    "Yes, you are right :)\n",
    "</div>"
   ]
  },
  {
   "cell_type": "markdown",
   "metadata": {},
   "source": [
    "<a id=step_2_3>- The type of establishment that is typically a chain.</a>"
   ]
  },
  {
   "cell_type": "code",
   "execution_count": 16,
   "metadata": {},
   "outputs": [
    {
     "data": {
      "text/html": [
       "<div>\n",
       "<style scoped>\n",
       "    .dataframe tbody tr th:only-of-type {\n",
       "        vertical-align: middle;\n",
       "    }\n",
       "\n",
       "    .dataframe tbody tr th {\n",
       "        vertical-align: top;\n",
       "    }\n",
       "\n",
       "    .dataframe thead th {\n",
       "        text-align: right;\n",
       "    }\n",
       "</style>\n",
       "<table border=\"1\" class=\"dataframe\">\n",
       "  <thead>\n",
       "    <tr style=\"text-align: right;\">\n",
       "      <th></th>\n",
       "      <th>object_type</th>\n",
       "      <th>chain</th>\n",
       "      <th>id</th>\n",
       "    </tr>\n",
       "  </thead>\n",
       "  <tbody>\n",
       "    <tr>\n",
       "      <td>0</td>\n",
       "      <td>Bakery</td>\n",
       "      <td>True</td>\n",
       "      <td>283</td>\n",
       "    </tr>\n",
       "    <tr>\n",
       "      <td>1</td>\n",
       "      <td>Bar</td>\n",
       "      <td>False</td>\n",
       "      <td>215</td>\n",
       "    </tr>\n",
       "    <tr>\n",
       "      <td>2</td>\n",
       "      <td>Bar</td>\n",
       "      <td>True</td>\n",
       "      <td>77</td>\n",
       "    </tr>\n",
       "    <tr>\n",
       "      <td>3</td>\n",
       "      <td>Cafe</td>\n",
       "      <td>False</td>\n",
       "      <td>169</td>\n",
       "    </tr>\n",
       "    <tr>\n",
       "      <td>4</td>\n",
       "      <td>Cafe</td>\n",
       "      <td>True</td>\n",
       "      <td>266</td>\n",
       "    </tr>\n",
       "    <tr>\n",
       "      <td>5</td>\n",
       "      <td>Fast Food</td>\n",
       "      <td>False</td>\n",
       "      <td>461</td>\n",
       "    </tr>\n",
       "    <tr>\n",
       "      <td>6</td>\n",
       "      <td>Fast Food</td>\n",
       "      <td>True</td>\n",
       "      <td>605</td>\n",
       "    </tr>\n",
       "    <tr>\n",
       "      <td>7</td>\n",
       "      <td>Pizza</td>\n",
       "      <td>False</td>\n",
       "      <td>167</td>\n",
       "    </tr>\n",
       "    <tr>\n",
       "      <td>8</td>\n",
       "      <td>Pizza</td>\n",
       "      <td>True</td>\n",
       "      <td>153</td>\n",
       "    </tr>\n",
       "    <tr>\n",
       "      <td>9</td>\n",
       "      <td>Restaurant</td>\n",
       "      <td>False</td>\n",
       "      <td>4963</td>\n",
       "    </tr>\n",
       "    <tr>\n",
       "      <td>10</td>\n",
       "      <td>Restaurant</td>\n",
       "      <td>True</td>\n",
       "      <td>2292</td>\n",
       "    </tr>\n",
       "  </tbody>\n",
       "</table>\n",
       "</div>"
      ],
      "text/plain": [
       "   object_type  chain    id\n",
       "0       Bakery   True   283\n",
       "1          Bar  False   215\n",
       "2          Bar   True    77\n",
       "3         Cafe  False   169\n",
       "4         Cafe   True   266\n",
       "5    Fast Food  False   461\n",
       "6    Fast Food   True   605\n",
       "7        Pizza  False   167\n",
       "8        Pizza   True   153\n",
       "9   Restaurant  False  4963\n",
       "10  Restaurant   True  2292"
      ]
     },
     "execution_count": 16,
     "metadata": {},
     "output_type": "execute_result"
    }
   ],
   "source": [
    "# Let's group by 'object type' and 'chain' and calculate how many establishments for chain and for not a chain.\n",
    "establishment_chain = data.pivot_table(index = ['object_type', 'chain'], values = 'id', aggfunc = 'count').reset_index()\n",
    "establishment_chain"
   ]
  },
  {
   "cell_type": "code",
   "execution_count": 17,
   "metadata": {},
   "outputs": [
    {
     "data": {
      "text/html": [
       "<div>\n",
       "<style scoped>\n",
       "    .dataframe tbody tr th:only-of-type {\n",
       "        vertical-align: middle;\n",
       "    }\n",
       "\n",
       "    .dataframe tbody tr th {\n",
       "        vertical-align: top;\n",
       "    }\n",
       "\n",
       "    .dataframe thead th {\n",
       "        text-align: right;\n",
       "    }\n",
       "</style>\n",
       "<table border=\"1\" class=\"dataframe\">\n",
       "  <thead>\n",
       "    <tr style=\"text-align: right;\">\n",
       "      <th></th>\n",
       "      <th>object_type</th>\n",
       "      <th>id</th>\n",
       "    </tr>\n",
       "  </thead>\n",
       "  <tbody>\n",
       "    <tr>\n",
       "      <td>0</td>\n",
       "      <td>Bakery</td>\n",
       "      <td>283</td>\n",
       "    </tr>\n",
       "    <tr>\n",
       "      <td>1</td>\n",
       "      <td>Bar</td>\n",
       "      <td>292</td>\n",
       "    </tr>\n",
       "    <tr>\n",
       "      <td>2</td>\n",
       "      <td>Cafe</td>\n",
       "      <td>435</td>\n",
       "    </tr>\n",
       "    <tr>\n",
       "      <td>3</td>\n",
       "      <td>Fast Food</td>\n",
       "      <td>1066</td>\n",
       "    </tr>\n",
       "    <tr>\n",
       "      <td>4</td>\n",
       "      <td>Pizza</td>\n",
       "      <td>320</td>\n",
       "    </tr>\n",
       "    <tr>\n",
       "      <td>5</td>\n",
       "      <td>Restaurant</td>\n",
       "      <td>7255</td>\n",
       "    </tr>\n",
       "  </tbody>\n",
       "</table>\n",
       "</div>"
      ],
      "text/plain": [
       "  object_type    id\n",
       "0      Bakery   283\n",
       "1         Bar   292\n",
       "2        Cafe   435\n",
       "3   Fast Food  1066\n",
       "4       Pizza   320\n",
       "5  Restaurant  7255"
      ]
     },
     "execution_count": 17,
     "metadata": {},
     "output_type": "execute_result"
    }
   ],
   "source": [
    "# Let's calculate how many establishments each 'object_type'.\n",
    "number_by_type = data.groupby('object_type').agg({'id': 'count'}).reset_index()\n",
    "number_by_type"
   ]
  },
  {
   "cell_type": "code",
   "execution_count": 18,
   "metadata": {},
   "outputs": [
    {
     "data": {
      "text/html": [
       "<div>\n",
       "<style scoped>\n",
       "    .dataframe tbody tr th:only-of-type {\n",
       "        vertical-align: middle;\n",
       "    }\n",
       "\n",
       "    .dataframe tbody tr th {\n",
       "        vertical-align: top;\n",
       "    }\n",
       "\n",
       "    .dataframe thead th {\n",
       "        text-align: right;\n",
       "    }\n",
       "</style>\n",
       "<table border=\"1\" class=\"dataframe\">\n",
       "  <thead>\n",
       "    <tr style=\"text-align: right;\">\n",
       "      <th></th>\n",
       "      <th>object_type</th>\n",
       "      <th>chain</th>\n",
       "      <th>number</th>\n",
       "      <th>total</th>\n",
       "      <th>percentage</th>\n",
       "    </tr>\n",
       "  </thead>\n",
       "  <tbody>\n",
       "    <tr>\n",
       "      <td>2</td>\n",
       "      <td>Bar</td>\n",
       "      <td>True</td>\n",
       "      <td>77</td>\n",
       "      <td>292</td>\n",
       "      <td>26.369863</td>\n",
       "    </tr>\n",
       "    <tr>\n",
       "      <td>10</td>\n",
       "      <td>Restaurant</td>\n",
       "      <td>True</td>\n",
       "      <td>2292</td>\n",
       "      <td>7255</td>\n",
       "      <td>31.592006</td>\n",
       "    </tr>\n",
       "    <tr>\n",
       "      <td>3</td>\n",
       "      <td>Cafe</td>\n",
       "      <td>False</td>\n",
       "      <td>169</td>\n",
       "      <td>435</td>\n",
       "      <td>38.850575</td>\n",
       "    </tr>\n",
       "    <tr>\n",
       "      <td>5</td>\n",
       "      <td>Fast Food</td>\n",
       "      <td>False</td>\n",
       "      <td>461</td>\n",
       "      <td>1066</td>\n",
       "      <td>43.245779</td>\n",
       "    </tr>\n",
       "    <tr>\n",
       "      <td>8</td>\n",
       "      <td>Pizza</td>\n",
       "      <td>True</td>\n",
       "      <td>153</td>\n",
       "      <td>320</td>\n",
       "      <td>47.812500</td>\n",
       "    </tr>\n",
       "    <tr>\n",
       "      <td>7</td>\n",
       "      <td>Pizza</td>\n",
       "      <td>False</td>\n",
       "      <td>167</td>\n",
       "      <td>320</td>\n",
       "      <td>52.187500</td>\n",
       "    </tr>\n",
       "    <tr>\n",
       "      <td>6</td>\n",
       "      <td>Fast Food</td>\n",
       "      <td>True</td>\n",
       "      <td>605</td>\n",
       "      <td>1066</td>\n",
       "      <td>56.754221</td>\n",
       "    </tr>\n",
       "    <tr>\n",
       "      <td>4</td>\n",
       "      <td>Cafe</td>\n",
       "      <td>True</td>\n",
       "      <td>266</td>\n",
       "      <td>435</td>\n",
       "      <td>61.149425</td>\n",
       "    </tr>\n",
       "    <tr>\n",
       "      <td>9</td>\n",
       "      <td>Restaurant</td>\n",
       "      <td>False</td>\n",
       "      <td>4963</td>\n",
       "      <td>7255</td>\n",
       "      <td>68.407994</td>\n",
       "    </tr>\n",
       "    <tr>\n",
       "      <td>1</td>\n",
       "      <td>Bar</td>\n",
       "      <td>False</td>\n",
       "      <td>215</td>\n",
       "      <td>292</td>\n",
       "      <td>73.630137</td>\n",
       "    </tr>\n",
       "    <tr>\n",
       "      <td>0</td>\n",
       "      <td>Bakery</td>\n",
       "      <td>True</td>\n",
       "      <td>283</td>\n",
       "      <td>283</td>\n",
       "      <td>100.000000</td>\n",
       "    </tr>\n",
       "  </tbody>\n",
       "</table>\n",
       "</div>"
      ],
      "text/plain": [
       "   object_type  chain  number  total  percentage\n",
       "2          Bar   True      77    292   26.369863\n",
       "10  Restaurant   True    2292   7255   31.592006\n",
       "3         Cafe  False     169    435   38.850575\n",
       "5    Fast Food  False     461   1066   43.245779\n",
       "8        Pizza   True     153    320   47.812500\n",
       "7        Pizza  False     167    320   52.187500\n",
       "6    Fast Food   True     605   1066   56.754221\n",
       "4         Cafe   True     266    435   61.149425\n",
       "9   Restaurant  False    4963   7255   68.407994\n",
       "1          Bar  False     215    292   73.630137\n",
       "0       Bakery   True     283    283  100.000000"
      ]
     },
     "execution_count": 18,
     "metadata": {},
     "output_type": "execute_result"
    }
   ],
   "source": [
    "# Let's calculate the percentage for chain and not chain from the total establishment for each 'object_type'. \n",
    "establishment_chain = establishment_chain.merge(number_by_type, on = 'object_type')\n",
    "establishment_chain.columns = ['object_type', 'chain', 'number', 'total']\n",
    "establishment_chain['percentage'] = establishment_chain['number'] / establishment_chain['total'] * 100\n",
    "establishment_chain.sort_values('percentage', inplace=True)\n",
    "establishment_chain"
   ]
  },
  {
   "cell_type": "code",
   "execution_count": 19,
   "metadata": {},
   "outputs": [
    {
     "data": {
      "text/html": [
       "<div>\n",
       "<style scoped>\n",
       "    .dataframe tbody tr th:only-of-type {\n",
       "        vertical-align: middle;\n",
       "    }\n",
       "\n",
       "    .dataframe tbody tr th {\n",
       "        vertical-align: top;\n",
       "    }\n",
       "\n",
       "    .dataframe thead th {\n",
       "        text-align: right;\n",
       "    }\n",
       "</style>\n",
       "<table border=\"1\" class=\"dataframe\">\n",
       "  <thead>\n",
       "    <tr style=\"text-align: right;\">\n",
       "      <th></th>\n",
       "      <th>object_type</th>\n",
       "      <th>chain</th>\n",
       "      <th>number</th>\n",
       "      <th>total</th>\n",
       "      <th>percentage</th>\n",
       "      <th>chain_not_chain</th>\n",
       "    </tr>\n",
       "  </thead>\n",
       "  <tbody>\n",
       "    <tr>\n",
       "      <td>2</td>\n",
       "      <td>Bar</td>\n",
       "      <td>True</td>\n",
       "      <td>77</td>\n",
       "      <td>292</td>\n",
       "      <td>26.369863</td>\n",
       "      <td>chain</td>\n",
       "    </tr>\n",
       "    <tr>\n",
       "      <td>10</td>\n",
       "      <td>Restaurant</td>\n",
       "      <td>True</td>\n",
       "      <td>2292</td>\n",
       "      <td>7255</td>\n",
       "      <td>31.592006</td>\n",
       "      <td>chain</td>\n",
       "    </tr>\n",
       "    <tr>\n",
       "      <td>3</td>\n",
       "      <td>Cafe</td>\n",
       "      <td>False</td>\n",
       "      <td>169</td>\n",
       "      <td>435</td>\n",
       "      <td>38.850575</td>\n",
       "      <td>not chain</td>\n",
       "    </tr>\n",
       "    <tr>\n",
       "      <td>5</td>\n",
       "      <td>Fast Food</td>\n",
       "      <td>False</td>\n",
       "      <td>461</td>\n",
       "      <td>1066</td>\n",
       "      <td>43.245779</td>\n",
       "      <td>not chain</td>\n",
       "    </tr>\n",
       "    <tr>\n",
       "      <td>8</td>\n",
       "      <td>Pizza</td>\n",
       "      <td>True</td>\n",
       "      <td>153</td>\n",
       "      <td>320</td>\n",
       "      <td>47.812500</td>\n",
       "      <td>chain</td>\n",
       "    </tr>\n",
       "    <tr>\n",
       "      <td>7</td>\n",
       "      <td>Pizza</td>\n",
       "      <td>False</td>\n",
       "      <td>167</td>\n",
       "      <td>320</td>\n",
       "      <td>52.187500</td>\n",
       "      <td>not chain</td>\n",
       "    </tr>\n",
       "    <tr>\n",
       "      <td>6</td>\n",
       "      <td>Fast Food</td>\n",
       "      <td>True</td>\n",
       "      <td>605</td>\n",
       "      <td>1066</td>\n",
       "      <td>56.754221</td>\n",
       "      <td>chain</td>\n",
       "    </tr>\n",
       "    <tr>\n",
       "      <td>4</td>\n",
       "      <td>Cafe</td>\n",
       "      <td>True</td>\n",
       "      <td>266</td>\n",
       "      <td>435</td>\n",
       "      <td>61.149425</td>\n",
       "      <td>chain</td>\n",
       "    </tr>\n",
       "    <tr>\n",
       "      <td>9</td>\n",
       "      <td>Restaurant</td>\n",
       "      <td>False</td>\n",
       "      <td>4963</td>\n",
       "      <td>7255</td>\n",
       "      <td>68.407994</td>\n",
       "      <td>not chain</td>\n",
       "    </tr>\n",
       "    <tr>\n",
       "      <td>1</td>\n",
       "      <td>Bar</td>\n",
       "      <td>False</td>\n",
       "      <td>215</td>\n",
       "      <td>292</td>\n",
       "      <td>73.630137</td>\n",
       "      <td>not chain</td>\n",
       "    </tr>\n",
       "    <tr>\n",
       "      <td>0</td>\n",
       "      <td>Bakery</td>\n",
       "      <td>True</td>\n",
       "      <td>283</td>\n",
       "      <td>283</td>\n",
       "      <td>100.000000</td>\n",
       "      <td>chain</td>\n",
       "    </tr>\n",
       "  </tbody>\n",
       "</table>\n",
       "</div>"
      ],
      "text/plain": [
       "   object_type  chain  number  total  percentage chain_not_chain\n",
       "2          Bar   True      77    292   26.369863           chain\n",
       "10  Restaurant   True    2292   7255   31.592006           chain\n",
       "3         Cafe  False     169    435   38.850575       not chain\n",
       "5    Fast Food  False     461   1066   43.245779       not chain\n",
       "8        Pizza   True     153    320   47.812500           chain\n",
       "7        Pizza  False     167    320   52.187500       not chain\n",
       "6    Fast Food   True     605   1066   56.754221           chain\n",
       "4         Cafe   True     266    435   61.149425           chain\n",
       "9   Restaurant  False    4963   7255   68.407994       not chain\n",
       "1          Bar  False     215    292   73.630137       not chain\n",
       "0       Bakery   True     283    283  100.000000           chain"
      ]
     },
     "execution_count": 19,
     "metadata": {},
     "output_type": "execute_result"
    }
   ],
   "source": [
    "# Let's apply the function to create a new column where we will store chain/not chain instead of True/False.\n",
    "establishment_chain['chain_not_chain'] = establishment_chain['chain'].map(lambda x: 'chain' if x else 'not chain')\n",
    "establishment_chain"
   ]
  },
  {
   "cell_type": "code",
   "execution_count": 20,
   "metadata": {},
   "outputs": [
    {
     "data": {
      "image/png": "[encoded data removed]",
      "text/plain": [
       "<Figure size 808.75x360 with 1 Axes>"
      ]
     },
     "metadata": {},
     "output_type": "display_data"
    }
   ],
   "source": [
    "# Let's plot the graph. \n",
    "sns.set_style(\"whitegrid\")\n",
    "fig = sns.catplot(data= establishment_chain , kind=\"bar\", x=\"object_type\", y = \"percentage\", \n",
    "                  hue=\"chain_not_chain\", height=5, aspect=2, alpha=.6)\n",
    "plt.axhline(50, ls='--', color='r')\n",
    "plt.title('Proportions of the various types of establishments chain and not chain')\n",
    "plt.xlabel('Names of establishments')\n",
    "plt.ylabel('Percentage of establishments')\n",
    "plt.show()"
   ]
  },
  {
   "cell_type": "markdown",
   "metadata": {},
   "source": [
    "### Conclusions:\n",
    "\n",
    "We add a horizontal line **50%** to better visualization equality for chain and not a chain. On the graph, Pizza establishments located the most closer to line 50% this means that Pizzas chain places and Pizzas not chain places occur in the data almost equally often (48% and 52% respectively). \n",
    "\n",
    "In our data appears only Bakeries that are part of chains.\n",
    "\n",
    "**Cafes and Fast Foods** most often are **chains**.\n",
    "\n",
    "**Bars and Restaurants** most often are **not part of the chain**. "
   ]
  },
  {
   "cell_type": "markdown",
   "metadata": {},
   "source": [
    "<div class=\"alert alert-success\" role=\"alert\">\n",
    "Reviewer's comment:\n",
    "    \n",
    "It's great that you have determined the prevailing type chain/not chain for each type of establishments.\n",
    "Could you please explain why Cafes and Fast Foods are mainly chains, but Bars and Restaurants most often are not part of the chain? Why bakery is always chain?\n",
    "</div>"
   ]
  },
  {
   "cell_type": "markdown",
   "metadata": {},
   "source": [
    "<div class=\"alert alert-info\"> <b>Student comment:</b>\n",
    "    \n",
    "    \n",
    "- For **Bars and Restaurants** concept and the atmosphere is very important. Clients ready to spend a lot of time and money there. So for these kinds of establishments, the chain is not the first option. \n",
    "The uniqueness and originality of individual ideas make Bars and Restaurants more often not chains.\n",
    "- **Cafes and Fast Foods** most often used for a quick and cheap snack. Design, uniqueness, and comfort are not so important to customers. The main goal is fast and cheap. Therefore, the sameness, recognition (as a certificate of quality) is the best choice for Cafe and Fast Food. In the Cafes and  Fast Food chains, the client knows exactly what he will receive and how much it will cost, which makes the network the best choice for these types of establishments.\n",
    "- **Bakeries** normally sell a standard set of products, there is nothing unusual in this type of establishment. Therefore, standardization as part of the chain is the best option for Bakery\n",
    "</div>"
   ]
  },
  {
   "cell_type": "markdown",
   "metadata": {},
   "source": [
    "<a id=step_2_4>- What characterizes chains: many establishments with a small number of seats or a few establishments with a lot of seats?</a>"
   ]
  },
  {
   "cell_type": "code",
   "execution_count": 21,
   "metadata": {},
   "outputs": [
    {
     "name": "stdout",
     "output_type": "stream",
     "text": [
      "Mode:  12\n",
      "Median:  25.0\n"
     ]
    },
    {
     "data": {
      "text/html": [
       "<div>\n",
       "<style scoped>\n",
       "    .dataframe tbody tr th:only-of-type {\n",
       "        vertical-align: middle;\n",
       "    }\n",
       "\n",
       "    .dataframe tbody tr th {\n",
       "        vertical-align: top;\n",
       "    }\n",
       "\n",
       "    .dataframe thead th {\n",
       "        text-align: right;\n",
       "    }\n",
       "</style>\n",
       "<table border=\"1\" class=\"dataframe\">\n",
       "  <thead>\n",
       "    <tr style=\"text-align: right;\">\n",
       "      <th></th>\n",
       "      <th>id</th>\n",
       "      <th>object_name</th>\n",
       "      <th>address</th>\n",
       "      <th>chain</th>\n",
       "      <th>object_type</th>\n",
       "      <th>number</th>\n",
       "    </tr>\n",
       "  </thead>\n",
       "  <tbody>\n",
       "    <tr>\n",
       "      <td>8</td>\n",
       "      <td>11794</td>\n",
       "      <td>ABC DONUTS</td>\n",
       "      <td>3027 N SAN FERNANDO RD UNIT 103</td>\n",
       "      <td>True</td>\n",
       "      <td>Fast Food</td>\n",
       "      <td>1</td>\n",
       "    </tr>\n",
       "    <tr>\n",
       "      <td>10</td>\n",
       "      <td>11796</td>\n",
       "      <td>EL POLLO LOCO</td>\n",
       "      <td>5319 W SUNSET BLVD</td>\n",
       "      <td>True</td>\n",
       "      <td>Restaurant</td>\n",
       "      <td>38</td>\n",
       "    </tr>\n",
       "    <tr>\n",
       "      <td>11</td>\n",
       "      <td>11797</td>\n",
       "      <td>POONG NYUN BAKERY</td>\n",
       "      <td>928 S WESTERN AVE STE 109</td>\n",
       "      <td>True</td>\n",
       "      <td>Bakery</td>\n",
       "      <td>17</td>\n",
       "    </tr>\n",
       "    <tr>\n",
       "      <td>12</td>\n",
       "      <td>11798</td>\n",
       "      <td>EMC RESTAURANT GROUP LLC</td>\n",
       "      <td>3500 W 6TH ST STE 101</td>\n",
       "      <td>True</td>\n",
       "      <td>Restaurant</td>\n",
       "      <td>133</td>\n",
       "    </tr>\n",
       "    <tr>\n",
       "      <td>14</td>\n",
       "      <td>11800</td>\n",
       "      <td>CUSCATLECA BAKERY</td>\n",
       "      <td>2501 W SUNSET BLVD #A</td>\n",
       "      <td>True</td>\n",
       "      <td>Bakery</td>\n",
       "      <td>26</td>\n",
       "    </tr>\n",
       "  </tbody>\n",
       "</table>\n",
       "</div>"
      ],
      "text/plain": [
       "       id               object_name                          address  chain  \\\n",
       "8   11794                ABC DONUTS  3027 N SAN FERNANDO RD UNIT 103   True   \n",
       "10  11796             EL POLLO LOCO               5319 W SUNSET BLVD   True   \n",
       "11  11797         POONG NYUN BAKERY        928 S WESTERN AVE STE 109   True   \n",
       "12  11798  EMC RESTAURANT GROUP LLC            3500 W 6TH ST STE 101   True   \n",
       "14  11800         CUSCATLECA BAKERY            2501 W SUNSET BLVD #A   True   \n",
       "\n",
       "   object_type  number  \n",
       "8    Fast Food       1  \n",
       "10  Restaurant      38  \n",
       "11      Bakery      17  \n",
       "12  Restaurant     133  \n",
       "14      Bakery      26  "
      ]
     },
     "execution_count": 21,
     "metadata": {},
     "output_type": "execute_result"
    }
   ],
   "source": [
    "# Let's look just at establishments that are a chain.\n",
    "chain_only = data[data['chain'] == True]\n",
    "print('Mode: ', chain_only['number'].mode()[0])\n",
    "print('Median: ', chain_only['number'].median())\n",
    "chain_only.head()"
   ]
  },
  {
   "cell_type": "code",
   "execution_count": 22,
   "metadata": {},
   "outputs": [
    {
     "data": {
      "image/png": "[encoded data removed]",
      "text/plain": [
       "<Figure size 936x504 with 1 Axes>"
      ]
     },
     "metadata": {},
     "output_type": "display_data"
    }
   ],
   "source": [
    "# Let's plot the graph. \n",
    "sns.set_style(\"whitegrid\")\n",
    "plt.figure(figsize=(13,7))\n",
    "fig = sns.distplot(chain_only['number'], kde=False)\n",
    "plt.title('Seat distribution for the chain establishments.')\n",
    "plt.xlabel('Number of seats')\n",
    "plt.ylabel('Number of establishments')\n",
    "plt.show()"
   ]
  },
  {
   "cell_type": "markdown",
   "metadata": {},
   "source": [
    "### Conclusion:\n",
    "\n",
    "From the graph, we can see that most often chain establishments have **12 seats**. Most chain restaurants have less than **50 seats**. \n",
    "Chains characterized many establishments with a small number of seats."
   ]
  },
  {
   "cell_type": "markdown",
   "metadata": {},
   "source": [
    "<div class=\"alert alert-success\" role=\"alert\">\n",
    "Reviewer's comment:\n",
    "    \n",
    "It's great that you analyzed the graph in details.\n",
    "</div>"
   ]
  },
  {
   "cell_type": "markdown",
   "metadata": {},
   "source": [
    "<a id=step_2_5> - Determination of the average number of seats for each type of restaurant. </a>\n",
    "\n",
    "<a id=step_2_5> - On average, which type of restaurant has the greatest number of seats?</a>"
   ]
  },
  {
   "cell_type": "code",
   "execution_count": 23,
   "metadata": {},
   "outputs": [
    {
     "data": {
      "text/html": [
       "<div>\n",
       "<style scoped>\n",
       "    .dataframe tbody tr th:only-of-type {\n",
       "        vertical-align: middle;\n",
       "    }\n",
       "\n",
       "    .dataframe tbody tr th {\n",
       "        vertical-align: top;\n",
       "    }\n",
       "\n",
       "    .dataframe thead th {\n",
       "        text-align: right;\n",
       "    }\n",
       "</style>\n",
       "<table border=\"1\" class=\"dataframe\">\n",
       "  <thead>\n",
       "    <tr style=\"text-align: right;\">\n",
       "      <th></th>\n",
       "      <th>object_type</th>\n",
       "      <th>mean</th>\n",
       "    </tr>\n",
       "  </thead>\n",
       "  <tbody>\n",
       "    <tr>\n",
       "      <td>0</td>\n",
       "      <td>Bakery</td>\n",
       "      <td>21.773852</td>\n",
       "    </tr>\n",
       "    <tr>\n",
       "      <td>2</td>\n",
       "      <td>Cafe</td>\n",
       "      <td>25.000000</td>\n",
       "    </tr>\n",
       "    <tr>\n",
       "      <td>4</td>\n",
       "      <td>Pizza</td>\n",
       "      <td>28.459375</td>\n",
       "    </tr>\n",
       "    <tr>\n",
       "      <td>3</td>\n",
       "      <td>Fast Food</td>\n",
       "      <td>31.837711</td>\n",
       "    </tr>\n",
       "    <tr>\n",
       "      <td>1</td>\n",
       "      <td>Bar</td>\n",
       "      <td>44.767123</td>\n",
       "    </tr>\n",
       "    <tr>\n",
       "      <td>5</td>\n",
       "      <td>Restaurant</td>\n",
       "      <td>48.042316</td>\n",
       "    </tr>\n",
       "  </tbody>\n",
       "</table>\n",
       "</div>"
      ],
      "text/plain": [
       "  object_type       mean\n",
       "0      Bakery  21.773852\n",
       "2        Cafe  25.000000\n",
       "4       Pizza  28.459375\n",
       "3   Fast Food  31.837711\n",
       "1         Bar  44.767123\n",
       "5  Restaurant  48.042316"
      ]
     },
     "execution_count": 23,
     "metadata": {},
     "output_type": "execute_result"
    }
   ],
   "source": [
    "# Let's calculate the mean number of seats.\n",
    "establishment_seats = data.groupby(by = 'object_type').agg({'number': 'mean'})\n",
    "establishment_seats.reset_index(inplace = True)\n",
    "establishment_seats.columns = ['object_type', 'mean']\n",
    "establishment_seats.sort_values(by = 'mean', inplace = True)\n",
    "establishment_seats"
   ]
  },
  {
   "cell_type": "code",
   "execution_count": 24,
   "metadata": {},
   "outputs": [
    {
     "data": {
      "image/png": "[encoded data removed]",
      "text/plain": [
       "<Figure size 720x360 with 1 Axes>"
      ]
     },
     "metadata": {},
     "output_type": "display_data"
    }
   ],
   "source": [
    "# Let's plot the graph. \n",
    "fig = sns.catplot(data=  establishment_seats, kind=\"bar\", x=\"object_type\", y = \"mean\", height=5, aspect=2, alpha=.6)\n",
    "plt.title('An average number of seats for each type of establishments')\n",
    "plt.xlabel('Names of establishments')\n",
    "plt.ylabel('Average number of seats')\n",
    "plt.show()"
   ]
  },
  {
   "cell_type": "markdown",
   "metadata": {},
   "source": [
    "### Conclusion:\n",
    "\n",
    "On average, **Restaurant** type of establishments has the greatest number of seats (near 48 seats). Bars also have a pretty big number of seats.\n",
    "**Bakeries** have the lowest number of seats on average (near 22 seats). "
   ]
  },
  {
   "cell_type": "markdown",
   "metadata": {},
   "source": [
    "<div class=\"alert alert-success\" role=\"alert\">\n",
    "Reviewer's comment:\n",
    "    \n",
    "Do you have any suggestions about these trends (average number of seats vs type of establishments)?\n",
    "</div>"
   ]
  },
  {
   "cell_type": "markdown",
   "metadata": {},
   "source": [
    "<div class=\"alert alert-info\"> <b>Student comment:</b> \n",
    "    \n",
    "    \n",
    "- The difference in the average number of seats can be explained by the **type** of establishments and by the **time**, that clients are ready to spend inside.\n",
    "- In Bars and Restaurant clients normally spent more time than in Cafes and Fast Food, so they need more place to seat. In Bakery people normally spend really less time, often they do takeaway, so this type of establishment does not need a lot of seats. \n",
    "- For the robot-waiter restaurant, we would recommend choosing a number of seats that are close to the average.\n",
    "</div>"
   ]
  },
  {
   "cell_type": "markdown",
   "metadata": {},
   "source": [
    "<a id=step_2_6>- Putting the data on street names from the address column in a separate column.</a>"
   ]
  },
  {
   "cell_type": "code",
   "execution_count": 25,
   "metadata": {},
   "outputs": [
    {
     "data": {
      "text/plain": [
       "'3708 N EAGLE ROCK BLVD'"
      ]
     },
     "execution_count": 25,
     "metadata": {},
     "output_type": "execute_result"
    }
   ],
   "source": [
    "# Let's look at the address example.\n",
    "street_ex = data['address'][0]\n",
    "street_ex"
   ]
  },
  {
   "cell_type": "code",
   "execution_count": 26,
   "metadata": {},
   "outputs": [
    {
     "data": {
      "text/plain": [
       "[('3708', 'AddressNumber'),\n",
       " ('N', 'StreetNamePreDirectional'),\n",
       " ('EAGLE', 'StreetName'),\n",
       " ('ROCK', 'StreetName'),\n",
       " ('BLVD', 'StreetNamePostType')]"
      ]
     },
     "execution_count": 26,
     "metadata": {},
     "output_type": "execute_result"
    }
   ],
   "source": [
    "# Let's parse using usaddress library. \n",
    "usaddress.parse(street_ex)"
   ]
  },
  {
   "cell_type": "code",
   "execution_count": 27,
   "metadata": {},
   "outputs": [],
   "source": [
    "# Let's define a function that will collect street names. \n",
    "def extract_address(address):\n",
    "    result = []\n",
    "    for i in usaddress.parse(address):\n",
    "        if i[1] == 'StreetName' or i[1] == 'StreetNamePostType':\n",
    "            result.append(i[0])\n",
    "    return ' '.join(result)"
   ]
  },
  {
   "cell_type": "code",
   "execution_count": 28,
   "metadata": {},
   "outputs": [
    {
     "data": {
      "text/plain": [
       "'EAGLE ROCK BLVD'"
      ]
     },
     "execution_count": 28,
     "metadata": {},
     "output_type": "execute_result"
    }
   ],
   "source": [
    "# Let's check the function with our address example.\n",
    "extract_address(street_ex)"
   ]
  },
  {
   "cell_type": "code",
   "execution_count": 29,
   "metadata": {},
   "outputs": [
    {
     "name": "stdout",
     "output_type": "stream",
     "text": [
      "Number of streets: 555\n"
     ]
    },
    {
     "data": {
      "text/html": [
       "<div>\n",
       "<style scoped>\n",
       "    .dataframe tbody tr th:only-of-type {\n",
       "        vertical-align: middle;\n",
       "    }\n",
       "\n",
       "    .dataframe tbody tr th {\n",
       "        vertical-align: top;\n",
       "    }\n",
       "\n",
       "    .dataframe thead th {\n",
       "        text-align: right;\n",
       "    }\n",
       "</style>\n",
       "<table border=\"1\" class=\"dataframe\">\n",
       "  <thead>\n",
       "    <tr style=\"text-align: right;\">\n",
       "      <th></th>\n",
       "      <th>id</th>\n",
       "      <th>object_name</th>\n",
       "      <th>address</th>\n",
       "      <th>chain</th>\n",
       "      <th>object_type</th>\n",
       "      <th>number</th>\n",
       "      <th>street</th>\n",
       "    </tr>\n",
       "  </thead>\n",
       "  <tbody>\n",
       "    <tr>\n",
       "      <td>0</td>\n",
       "      <td>11786</td>\n",
       "      <td>HABITAT COFFEE SHOP</td>\n",
       "      <td>3708 N EAGLE ROCK BLVD</td>\n",
       "      <td>False</td>\n",
       "      <td>Cafe</td>\n",
       "      <td>26</td>\n",
       "      <td>EAGLE ROCK BLVD</td>\n",
       "    </tr>\n",
       "    <tr>\n",
       "      <td>1</td>\n",
       "      <td>11787</td>\n",
       "      <td>REILLY'S</td>\n",
       "      <td>100 WORLD WAY # 120</td>\n",
       "      <td>False</td>\n",
       "      <td>Restaurant</td>\n",
       "      <td>9</td>\n",
       "      <td>WORLD WAY</td>\n",
       "    </tr>\n",
       "    <tr>\n",
       "      <td>2</td>\n",
       "      <td>11788</td>\n",
       "      <td>STREET CHURROS</td>\n",
       "      <td>6801 HOLLYWOOD BLVD # 253</td>\n",
       "      <td>False</td>\n",
       "      <td>Fast Food</td>\n",
       "      <td>20</td>\n",
       "      <td>HOLLYWOOD BLVD</td>\n",
       "    </tr>\n",
       "    <tr>\n",
       "      <td>3</td>\n",
       "      <td>11789</td>\n",
       "      <td>TRINITI ECHO PARK</td>\n",
       "      <td>1814 W SUNSET BLVD</td>\n",
       "      <td>False</td>\n",
       "      <td>Restaurant</td>\n",
       "      <td>22</td>\n",
       "      <td>SUNSET BLVD</td>\n",
       "    </tr>\n",
       "    <tr>\n",
       "      <td>4</td>\n",
       "      <td>11790</td>\n",
       "      <td>POLLEN</td>\n",
       "      <td>2100 ECHO PARK AVE</td>\n",
       "      <td>False</td>\n",
       "      <td>Restaurant</td>\n",
       "      <td>20</td>\n",
       "      <td>ECHO PARK AVE</td>\n",
       "    </tr>\n",
       "  </tbody>\n",
       "</table>\n",
       "</div>"
      ],
      "text/plain": [
       "      id          object_name                    address  chain object_type  \\\n",
       "0  11786  HABITAT COFFEE SHOP     3708 N EAGLE ROCK BLVD  False        Cafe   \n",
       "1  11787             REILLY'S        100 WORLD WAY # 120  False  Restaurant   \n",
       "2  11788       STREET CHURROS  6801 HOLLYWOOD BLVD # 253  False   Fast Food   \n",
       "3  11789    TRINITI ECHO PARK         1814 W SUNSET BLVD  False  Restaurant   \n",
       "4  11790               POLLEN         2100 ECHO PARK AVE  False  Restaurant   \n",
       "\n",
       "   number           street  \n",
       "0      26  EAGLE ROCK BLVD  \n",
       "1       9        WORLD WAY  \n",
       "2      20   HOLLYWOOD BLVD  \n",
       "3      22      SUNSET BLVD  \n",
       "4      20    ECHO PARK AVE  "
      ]
     },
     "execution_count": 29,
     "metadata": {},
     "output_type": "execute_result"
    }
   ],
   "source": [
    "# Let's apply the function to our data.\n",
    "data['street'] = data['address'].map(extract_address)\n",
    "print('Number of streets:', data['street'].nunique())\n",
    "data.head()"
   ]
  },
  {
   "cell_type": "markdown",
   "metadata": {},
   "source": [
    "In our data, we have **555** streets. "
   ]
  },
  {
   "cell_type": "markdown",
   "metadata": {},
   "source": [
    "<div class=\"alert alert-success\" role=\"alert\">\n",
    "Reviewer's comment:\n",
    "    \n",
    "Yes, looks ok :)\n",
    "</div>"
   ]
  },
  {
   "cell_type": "markdown",
   "metadata": {},
   "source": [
    "<a id=step_2_7>- Plotting a graph of the top ten streets by number of restaurants.</a>"
   ]
  },
  {
   "cell_type": "code",
   "execution_count": 30,
   "metadata": {
    "scrolled": true
   },
   "outputs": [
    {
     "name": "stdout",
     "output_type": "stream",
     "text": [
      "A number of restaurants on top 10 streets: 3242\n",
      "Percentage of all restaurants: 33.59\n"
     ]
    }
   ],
   "source": [
    "# Let's group by streets and select the top 10 streets with the biggest number of restaurants.\n",
    "streets_count = data.groupby(by = 'street').agg({'id': 'count'})\n",
    "streets_count.reset_index(inplace = True)\n",
    "streets_count.columns = ['street', 'number']\n",
    "streets_count.sort_values(by = 'number', ascending = False, inplace = True)\n",
    "top_10_streets = streets_count.head(10)\n",
    "print('A number of restaurants on top 10 streets:', top_10_streets['number'].sum())\n",
    "print('Percentage of all restaurants:', round((top_10_streets['number'].sum()) / 9651 * 100, 2))"
   ]
  },
  {
   "cell_type": "markdown",
   "metadata": {},
   "source": [
    "<div class=\"alert alert-success\" role=\"alert\">\n",
    "Reviewer's comment:\n",
    "    \n",
    "Please note that it's more readable to round 33.59237384726971 to 33.59.\n",
    "</div>"
   ]
  },
  {
   "cell_type": "markdown",
   "metadata": {},
   "source": [
    "<div class=\"alert alert-info\"> <b>Student comment:</b> I will use round() to change it. </div>\n"
   ]
  },
  {
   "cell_type": "markdown",
   "metadata": {},
   "source": [
    "In total at top 10 streets located 3242 establishments. This is **33.6%** of all restaurants in LA."
   ]
  },
  {
   "cell_type": "code",
   "execution_count": 31,
   "metadata": {},
   "outputs": [
    {
     "data": {
      "image/png": "[encoded data removed]",
      "text/plain": [
       "<Figure size 720x360 with 1 Axes>"
      ]
     },
     "metadata": {},
     "output_type": "display_data"
    }
   ],
   "source": [
    "# Let's plot the graph. \n",
    "fig = sns.catplot(data=top_10_streets, kind=\"bar\", x=\"number\", y = \"street\", height=5, aspect=2, alpha=.6)\n",
    "plt.title('Top 10 streets with the highest number of establishments. ')\n",
    "plt.ylabel('Names of street')\n",
    "plt.xlabel('Mumber of establishments')\n",
    "plt.show()"
   ]
  },
  {
   "cell_type": "markdown",
   "metadata": {},
   "source": [
    "### Conclusion:\n",
    "\n",
    "From the graph, we can see the top 10 streets that contain more than **253** and up to **403** establishments.\n",
    "The most popular for the restaurants located at **Sunset Blvd** and Wilshire Blvd.\n",
    "Hollywood Blvd is the least popular of the top 10 restaurants streets."
   ]
  },
  {
   "cell_type": "markdown",
   "metadata": {},
   "source": [
    "<div class=\"alert alert-success\" role=\"alert\">\n",
    "Reviewer's comment:\n",
    "    \n",
    "Yes, a great results. An excellent color scheme of the graph :)\n",
    "</div>"
   ]
  },
  {
   "cell_type": "markdown",
   "metadata": {},
   "source": [
    " <a id=step_2_8>- Number of streets that only have one restaurant.</a>"
   ]
  },
  {
   "cell_type": "code",
   "execution_count": 32,
   "metadata": {},
   "outputs": [
    {
     "name": "stdout",
     "output_type": "stream",
     "text": [
      "          street  number\n",
      "417    PORTIA ST       1\n",
      "418  PRODUCE ROW       1\n",
      "58       98TH ST       1\n",
      "459       SPRING       1\n",
      "416    PORTER ST       1\n"
     ]
    },
    {
     "data": {
      "text/plain": [
       "(250, 2)"
      ]
     },
     "execution_count": 32,
     "metadata": {},
     "output_type": "execute_result"
    }
   ],
   "source": [
    "# Let's group by streets and select streets with 1 restaurant.\n",
    "streets_1 = streets_count[streets_count['number'] == 1]\n",
    "print(streets_1.head())\n",
    "streets_1.shape"
   ]
  },
  {
   "cell_type": "markdown",
   "metadata": {},
   "source": [
    "**250** streets have only one restaurant.\n",
    "45% of the streets have 1 establishment, 55% of the streets have more than one restaurant. "
   ]
  },
  {
   "cell_type": "markdown",
   "metadata": {},
   "source": [
    "<div class=\"alert alert-warning\" role=\"alert\">\n",
    "Reviewer's comment:\n",
    "    \n",
    "Please explain why some streets have only one establishment, but other hundreds?\n",
    "</div>"
   ]
  },
  {
   "cell_type": "markdown",
   "metadata": {},
   "source": [
    "<div class=\"alert alert-info\"> <b>Student comment:</b>\n",
    "\n",
    "This can be explained by the different locations of streets in the city (center or residential area), the population of the streets, and the size of the street. We know from life experience that there are always hundreds of restaurants on the central streets, boulevards, and promenades of large cities, while there may be very few establishments on small, unpopular streets.\n",
    "</div>"
   ]
  },
  {
   "cell_type": "markdown",
   "metadata": {},
   "source": [
    " <a id=step_2_9>- For streets with a lot of restaurants, look at the distribution of the number of seats.</a>"
   ]
  },
  {
   "cell_type": "code",
   "execution_count": 33,
   "metadata": {},
   "outputs": [
    {
     "data": {
      "image/png": "[encoded data removed]",
      "text/plain": [
       "<Figure size 432x288 with 1 Axes>"
      ]
     },
     "metadata": {},
     "output_type": "display_data"
    }
   ],
   "source": [
    "# Let's look at the histogram number of establishments on tha street.\n",
    "streets_count[streets_count['number'] > 1].hist(bins=50)\n",
    "plt.title('Histogram number of establishments')\n",
    "plt.xlabel('Number of establishments')\n",
    "plt.ylabel('Quantity')\n",
    "plt.show()"
   ]
  },
  {
   "cell_type": "markdown",
   "metadata": {},
   "source": [
    "From Histogram, let's make an assumption that streets have a lot of restaurants if on this street located more than **100** establishments.  "
   ]
  },
  {
   "cell_type": "markdown",
   "metadata": {},
   "source": [
    "<div class=\"alert alert-success\" role=\"alert\">\n",
    "Reviewer's comment:\n",
    "    \n",
    "Yes, reasonable.\n",
    "</div>"
   ]
  },
  {
   "cell_type": "code",
   "execution_count": 34,
   "metadata": {},
   "outputs": [
    {
     "data": {
      "text/html": [
       "<div>\n",
       "<style scoped>\n",
       "    .dataframe tbody tr th:only-of-type {\n",
       "        vertical-align: middle;\n",
       "    }\n",
       "\n",
       "    .dataframe tbody tr th {\n",
       "        vertical-align: top;\n",
       "    }\n",
       "\n",
       "    .dataframe thead th {\n",
       "        text-align: right;\n",
       "    }\n",
       "</style>\n",
       "<table border=\"1\" class=\"dataframe\">\n",
       "  <thead>\n",
       "    <tr style=\"text-align: right;\">\n",
       "      <th></th>\n",
       "      <th>street</th>\n",
       "      <th>number</th>\n",
       "    </tr>\n",
       "  </thead>\n",
       "  <tbody>\n",
       "    <tr>\n",
       "      <td>476</td>\n",
       "      <td>SUNSET BLVD</td>\n",
       "      <td>403</td>\n",
       "    </tr>\n",
       "    <tr>\n",
       "      <td>538</td>\n",
       "      <td>WILSHIRE BLVD</td>\n",
       "      <td>397</td>\n",
       "    </tr>\n",
       "    <tr>\n",
       "      <td>412</td>\n",
       "      <td>PICO BLVD</td>\n",
       "      <td>370</td>\n",
       "    </tr>\n",
       "    <tr>\n",
       "      <td>524</td>\n",
       "      <td>WESTERN AVE</td>\n",
       "      <td>367</td>\n",
       "    </tr>\n",
       "    <tr>\n",
       "      <td>212</td>\n",
       "      <td>FIGUEROA ST</td>\n",
       "      <td>332</td>\n",
       "    </tr>\n",
       "  </tbody>\n",
       "</table>\n",
       "</div>"
      ],
      "text/plain": [
       "            street  number\n",
       "476    SUNSET BLVD     403\n",
       "538  WILSHIRE BLVD     397\n",
       "412      PICO BLVD     370\n",
       "524    WESTERN AVE     367\n",
       "212    FIGUEROA ST     332"
      ]
     },
     "execution_count": 34,
     "metadata": {},
     "output_type": "execute_result"
    }
   ],
   "source": [
    "# Let's look at streets that have more than 100 establishments.\n",
    "streets_100 = streets_count[streets_count['number'] > 100]\n",
    "streets_100.head()"
   ]
  },
  {
   "cell_type": "code",
   "execution_count": 35,
   "metadata": {},
   "outputs": [
    {
     "data": {
      "text/html": [
       "<div>\n",
       "<style scoped>\n",
       "    .dataframe tbody tr th:only-of-type {\n",
       "        vertical-align: middle;\n",
       "    }\n",
       "\n",
       "    .dataframe tbody tr th {\n",
       "        vertical-align: top;\n",
       "    }\n",
       "\n",
       "    .dataframe thead th {\n",
       "        text-align: right;\n",
       "    }\n",
       "</style>\n",
       "<table border=\"1\" class=\"dataframe\">\n",
       "  <thead>\n",
       "    <tr style=\"text-align: right;\">\n",
       "      <th></th>\n",
       "      <th>id</th>\n",
       "      <th>object_name</th>\n",
       "      <th>address</th>\n",
       "      <th>chain</th>\n",
       "      <th>object_type</th>\n",
       "      <th>number</th>\n",
       "      <th>street</th>\n",
       "    </tr>\n",
       "  </thead>\n",
       "  <tbody>\n",
       "    <tr>\n",
       "      <td>1</td>\n",
       "      <td>11787</td>\n",
       "      <td>REILLY'S</td>\n",
       "      <td>100 WORLD WAY # 120</td>\n",
       "      <td>False</td>\n",
       "      <td>Restaurant</td>\n",
       "      <td>9</td>\n",
       "      <td>WORLD WAY</td>\n",
       "    </tr>\n",
       "    <tr>\n",
       "      <td>2</td>\n",
       "      <td>11788</td>\n",
       "      <td>STREET CHURROS</td>\n",
       "      <td>6801 HOLLYWOOD BLVD # 253</td>\n",
       "      <td>False</td>\n",
       "      <td>Fast Food</td>\n",
       "      <td>20</td>\n",
       "      <td>HOLLYWOOD BLVD</td>\n",
       "    </tr>\n",
       "    <tr>\n",
       "      <td>3</td>\n",
       "      <td>11789</td>\n",
       "      <td>TRINITI ECHO PARK</td>\n",
       "      <td>1814 W SUNSET BLVD</td>\n",
       "      <td>False</td>\n",
       "      <td>Restaurant</td>\n",
       "      <td>22</td>\n",
       "      <td>SUNSET BLVD</td>\n",
       "    </tr>\n",
       "    <tr>\n",
       "      <td>6</td>\n",
       "      <td>11792</td>\n",
       "      <td>CPK</td>\n",
       "      <td>100 WORLD WAY # 126</td>\n",
       "      <td>False</td>\n",
       "      <td>Restaurant</td>\n",
       "      <td>100</td>\n",
       "      <td>WORLD WAY</td>\n",
       "    </tr>\n",
       "    <tr>\n",
       "      <td>7</td>\n",
       "      <td>11793</td>\n",
       "      <td>PHO LALA</td>\n",
       "      <td>3500 W 6TH ST STE 226</td>\n",
       "      <td>False</td>\n",
       "      <td>Restaurant</td>\n",
       "      <td>7</td>\n",
       "      <td>6TH ST</td>\n",
       "    </tr>\n",
       "  </tbody>\n",
       "</table>\n",
       "</div>"
      ],
      "text/plain": [
       "      id        object_name                    address  chain object_type  \\\n",
       "1  11787           REILLY'S        100 WORLD WAY # 120  False  Restaurant   \n",
       "2  11788     STREET CHURROS  6801 HOLLYWOOD BLVD # 253  False   Fast Food   \n",
       "3  11789  TRINITI ECHO PARK         1814 W SUNSET BLVD  False  Restaurant   \n",
       "6  11792                CPK        100 WORLD WAY # 126  False  Restaurant   \n",
       "7  11793           PHO LALA      3500 W 6TH ST STE 226  False  Restaurant   \n",
       "\n",
       "   number          street  \n",
       "1       9       WORLD WAY  \n",
       "2      20  HOLLYWOOD BLVD  \n",
       "3      22     SUNSET BLVD  \n",
       "6     100       WORLD WAY  \n",
       "7       7          6TH ST  "
      ]
     },
     "execution_count": 35,
     "metadata": {},
     "output_type": "execute_result"
    }
   ],
   "source": [
    "# From the 'data' table let's extract only data for streets that have more than 100 restaurants.\n",
    "data_100 = data[np.isin(data['street'], list(streets_100['street']))]\n",
    "data_100.head()"
   ]
  },
  {
   "cell_type": "code",
   "execution_count": 36,
   "metadata": {},
   "outputs": [
    {
     "data": {
      "image/png": "[encoded data removed]",
      "text/plain": [
       "<Figure size 936x504 with 1 Axes>"
      ]
     },
     "metadata": {},
     "output_type": "display_data"
    }
   ],
   "source": [
    "# Let's plot the graph. \n",
    "sns.set_style(\"whitegrid\")\n",
    "fig = plt.figure(figsize=(13,7))\n",
    "sns.distplot(data_100['number'], kde = False)\n",
    "plt.title('Seat distribution for streets with more than 100 establishments')\n",
    "plt.xlabel('Number of seats')\n",
    "plt.ylabel('Number of establishments')\n",
    "plt.show()"
   ]
  },
  {
   "cell_type": "markdown",
   "metadata": {},
   "source": [
    "### Conclusion:\n",
    "Seats distribution for the streets that has more than 100 restaurants looks very similar with seats distribution for chain establishments. So let's compare Seats distribution for all restaurants at all streets and restaurants in the top 100 streets. "
   ]
  },
  {
   "cell_type": "markdown",
   "metadata": {},
   "source": [
    "<div class=\"alert alert-success\" role=\"alert\">\n",
    "Reviewer's comment:\n",
    "    \n",
    "Yes, you are right :)\n",
    "</div>"
   ]
  },
  {
   "cell_type": "code",
   "execution_count": 37,
   "metadata": {
    "scrolled": false
   },
   "outputs": [
    {
     "data": {
      "image/png": "[encoded data removed]",
      "text/plain": [
       "<Figure size 936x504 with 1 Axes>"
      ]
     },
     "metadata": {},
     "output_type": "display_data"
    }
   ],
   "source": [
    "# Let's plot the graph. \n",
    "sns.set_style(\"whitegrid\")\n",
    "fig = plt.figure(figsize=(13,7))\n",
    "sns.distplot(data_100['number'])\n",
    "sns.distplot(data['number'])\n",
    "fig.legend(labels=['Top 100 streets','All streets'])\n",
    "plt.title('Seat distribution for streets with more than 100 establishments and all streets')\n",
    "plt.xlabel('Number of seats')\n",
    "plt.ylabel('Number of establishments')\n",
    "plt.show()"
   ]
  },
  {
   "cell_type": "markdown",
   "metadata": {},
   "source": [
    "### Conclusion:\n",
    "\n",
    "Seats distribution for all restaurants at all streets and restaurants in the top 100 streets looks almost the same. Most of the restaurants have **less than 50 seats**. \n",
    "\n",
    "---"
   ]
  },
  {
   "cell_type": "markdown",
   "metadata": {},
   "source": [
    "<div class=\"alert alert-success\" role=\"alert\">\n",
    "Reviewer's comment:\n",
    "    \n",
    "A really great graph! Yes, the distributions of number of seats looks similar.\n",
    "</div>"
   ]
  },
  {
   "cell_type": "markdown",
   "metadata": {},
   "source": [
    "### <a id=step_3> Overall conclusions:</a>"
   ]
  },
  {
   "cell_type": "markdown",
   "metadata": {},
   "source": [
    "- We analyzed data on restaurants in LA on 555 streets. In the 'date' table, we have 6 columns and 9651 values in each column. \n",
    "\n",
    "\n",
    "- We calculated that  **7,255** establishments in LA are of a restaurant type, which is **75%** of all establishments. The least popular is the bakery, only 3% of all establishments. In the LA market Not Chain establishments share is **62%**, Chain establishments - **38%**. We find out that Cafes and Fast Foods most often are chains, but Bars and Restaurants most often are not part of the chain.\n",
    "\n",
    "\n",
    "- Most often chain establishments have 12 seats. On average, **Restaurant** type of establishments has the greatest number of seats (near 48 seats). **Bakeries** have the lowest number of seats on average (near 22 seats). \n",
    "\n",
    "\n",
    "- In total at the top 10 streets located 3242 establishments. This is **33.6%** of all restaurants in LA. The most popular for the restaurants located at **Sunset Blvd** (403 establishments) and Wilshire Blvd. 45% of the streets have 1 establishment, 55% of the streets have more than one restaurant. \n",
    "\n",
    "### Recommendations:\n",
    "- Considering the newness and originality of the idea of robot-waiter establishments and the market situation in LA we would recommend giving **first priority to restaurants**, not cafes (cafes most often are part of the chain and crowded out by corporations). We recommend opting for a restaurant with a **small number of seats near 40-50**.  As a location, we would consider one of that **top 10 streets**, where located  34% of all establishments in LA. "
   ]
  },
  {
   "cell_type": "markdown",
   "metadata": {},
   "source": [
    "<div class=\"alert alert-success\" role=\"alert\">\n",
    "Reviewer's comment:\n",
    "    \n",
    "A really great conclusion which highlights all the main results of the project. The recommendations are justified and follows from the analysis.\n",
    "</div>"
   ]
  },
  {
   "cell_type": "markdown",
   "metadata": {},
   "source": [
    "### <a id=step_4>Link to the presentation:</a>\n",
    "https://drive.google.com/file/d/1waYm6ezjd0Os4c0DaktSObeQZYUS49Hg/view?usp=sharing"
   ]
  },
  {
   "cell_type": "markdown",
   "metadata": {},
   "source": [
    "<div class=\"alert alert-success\" role=\"alert\">\n",
    "Reviewer's comment:\n",
    "    \n",
    "An excellent presentation! Howevet please move the second slide (\"General findings\") to the end (before recommendations) and add slide with a problem statement.\n",
    "</div>"
   ]
  },
  {
   "cell_type": "markdown",
   "metadata": {},
   "source": [
    "<div class=\"alert alert-info\"> <b>Student comment:</b>\n",
    "\n",
    "#### Link to the presentation version_2:\n",
    "\n",
    "https://drive.google.com/file/d/1JoPTWtVgBuJ7ez4gwoGPJV8CJNw7Lovo/view?usp=sharing\n",
    "\n",
    "</div>"
   ]
  },
  {
   "cell_type": "code",
   "execution_count": null,
   "metadata": {},
   "outputs": [],
   "source": []
  }
 ],
 "metadata": {
  "kernelspec": {
   "display_name": "Python 3",
   "language": "python",
   "name": "python3"
  },
  "language_info": {
   "codemirror_mode": {
    "name": "ipython",
    "version": 3
   },
   "file_extension": ".py",
   "mimetype": "text/x-python",
   "name": "python",
   "nbconvert_exporter": "python",
   "pygments_lexer": "ipython3",
   "version": "3.7.6"
  }
 },
 "nbformat": 4,
 "nbformat_minor": 2
}
